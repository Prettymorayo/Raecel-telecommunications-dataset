{
 "cells": [
  {
   "cell_type": "markdown",
   "id": "0e1cbca7-5237-4b63-96c2-2dd51f74ccc2",
   "metadata": {},
   "source": [
    "### RAECEL TELECOMMUNICATIONS"
   ]
  },
  {
   "cell_type": "code",
   "execution_count": 3,
   "id": "f668dbd8-8a80-439a-938b-5b8d2a1b00c9",
   "metadata": {},
   "outputs": [
    {
     "data": {
      "text/plain": [
       "\"\\nThe Raecel Telecommunication dataset contains information about the customer's usage pattern and their current status with the network.\\n\""
      ]
     },
     "execution_count": 3,
     "metadata": {},
     "output_type": "execute_result"
    }
   ],
   "source": [
    "'''\n",
    "The Raecel Telecommunication dataset contains information about the customer's usage pattern and their current status with the network.\n",
    "'''"
   ]
  },
  {
   "cell_type": "code",
   "execution_count": 4,
   "id": "1508ceeb-8a0a-4af8-9d97-9ca53bea3cbe",
   "metadata": {},
   "outputs": [],
   "source": [
    "# importing pandas and the datasets.\n",
    "import pandas as pd\n",
    "\n",
    "telecom_churn = pd.read_csv(r'C:\\Users\\mahmud kamai\\Desktop\\telecom_churn.csv')"
   ]
  },
  {
   "cell_type": "code",
   "execution_count": 5,
   "id": "996562ce-2dfc-43d2-bc80-8a65cd8b35d7",
   "metadata": {},
   "outputs": [
    {
     "name": "stdout",
     "output_type": "stream",
     "text": [
      "  State  Account length  Area code International plan Voice mail plan  \\\n",
      "0    KS             128        415                 No             Yes   \n",
      "1    OH             107        415                 No             Yes   \n",
      "2    NJ             137        415                 No              No   \n",
      "3    OH              84        408                Yes              No   \n",
      "4    OK              75        415                Yes              No   \n",
      "\n",
      "   Number vmail messages  Total day minutes  Total day calls  \\\n",
      "0                     25              265.1              110   \n",
      "1                     26              161.6              123   \n",
      "2                      0              243.4              114   \n",
      "3                      0              299.4               71   \n",
      "4                      0              166.7              113   \n",
      "\n",
      "   Total day charge  Total eve minutes  Total eve calls  Total eve charge  \\\n",
      "0             45.07              197.4               99             16.78   \n",
      "1             27.47              195.5              103             16.62   \n",
      "2             41.38              121.2              110             10.30   \n",
      "3             50.90               61.9               88              5.26   \n",
      "4             28.34              148.3              122             12.61   \n",
      "\n",
      "   Total night minutes  Total night calls  Total night charge  \\\n",
      "0                244.7                 91               11.01   \n",
      "1                254.4                103               11.45   \n",
      "2                162.6                104                7.32   \n",
      "3                196.9                 89                8.86   \n",
      "4                186.9                121                8.41   \n",
      "\n",
      "   Total intl minutes  Total intl calls  Total intl charge  \\\n",
      "0                10.0                 3               2.70   \n",
      "1                13.7                 3               3.70   \n",
      "2                12.2                 5               3.29   \n",
      "3                 6.6                 7               1.78   \n",
      "4                10.1                 3               2.73   \n",
      "\n",
      "   Customer service calls  Churn  \n",
      "0                       1  False  \n",
      "1                       1  False  \n",
      "2                       0  False  \n",
      "3                       2  False  \n",
      "4                       3  False  \n"
     ]
    }
   ],
   "source": [
    "# Displaying the first five rows of the dataset.\n",
    "print(telecom_churn.head())"
   ]
  },
  {
   "cell_type": "code",
   "execution_count": 6,
   "id": "77ac2eb1-1dd2-4bc9-855f-da6f75ac872f",
   "metadata": {},
   "outputs": [
    {
     "name": "stdout",
     "output_type": "stream",
     "text": [
      "     State  Account length  Area code International plan Voice mail plan  \\\n",
      "3328    AZ             192        415                 No             Yes   \n",
      "3329    WV              68        415                 No              No   \n",
      "3330    RI              28        510                 No              No   \n",
      "3331    CT             184        510                Yes              No   \n",
      "3332    TN              74        415                 No             Yes   \n",
      "\n",
      "      Number vmail messages  Total day minutes  Total day calls  \\\n",
      "3328                     36              156.2               77   \n",
      "3329                      0              231.1               57   \n",
      "3330                      0              180.8              109   \n",
      "3331                      0              213.8              105   \n",
      "3332                     25              234.4              113   \n",
      "\n",
      "      Total day charge  Total eve minutes  Total eve calls  Total eve charge  \\\n",
      "3328             26.55              215.5              126             18.32   \n",
      "3329             39.29              153.4               55             13.04   \n",
      "3330             30.74              288.8               58             24.55   \n",
      "3331             36.35              159.6               84             13.57   \n",
      "3332             39.85              265.9               82             22.60   \n",
      "\n",
      "      Total night minutes  Total night calls  Total night charge  \\\n",
      "3328                279.1                 83               12.56   \n",
      "3329                191.3                123                8.61   \n",
      "3330                191.9                 91                8.64   \n",
      "3331                139.2                137                6.26   \n",
      "3332                241.4                 77               10.86   \n",
      "\n",
      "      Total intl minutes  Total intl calls  Total intl charge  \\\n",
      "3328                 9.9                 6               2.67   \n",
      "3329                 9.6                 4               2.59   \n",
      "3330                14.1                 6               3.81   \n",
      "3331                 5.0                10               1.35   \n",
      "3332                13.7                 4               3.70   \n",
      "\n",
      "      Customer service calls  Churn  \n",
      "3328                       2  False  \n",
      "3329                       3  False  \n",
      "3330                       2  False  \n",
      "3331                       2  False  \n",
      "3332                       0  False  \n"
     ]
    }
   ],
   "source": [
    "# print out the last five rows of the dataset.\n",
    "print(telecom_churn.tail())"
   ]
  },
  {
   "cell_type": "code",
   "execution_count": 7,
   "id": "e8f3e1d5-651a-4e8a-a5b3-ab9ace62ba65",
   "metadata": {},
   "outputs": [
    {
     "data": {
      "text/plain": [
       "(3333, 20)"
      ]
     },
     "execution_count": 7,
     "metadata": {},
     "output_type": "execute_result"
    }
   ],
   "source": [
    "# the shape of the data \n",
    "telecom_churn.shape\n"
   ]
  },
  {
   "cell_type": "code",
   "execution_count": 8,
   "id": "4f5d86e2-852f-4c4f-9793-3d9d509173be",
   "metadata": {},
   "outputs": [
    {
     "data": {
      "text/plain": [
       "Index(['State', 'Account length', 'Area code', 'International plan',\n",
       "       'Voice mail plan', 'Number vmail messages', 'Total day minutes',\n",
       "       'Total day calls', 'Total day charge', 'Total eve minutes',\n",
       "       'Total eve calls', 'Total eve charge', 'Total night minutes',\n",
       "       'Total night calls', 'Total night charge', 'Total intl minutes',\n",
       "       'Total intl calls', 'Total intl charge', 'Customer service calls',\n",
       "       'Churn'],\n",
       "      dtype='object')"
      ]
     },
     "execution_count": 8,
     "metadata": {},
     "output_type": "execute_result"
    }
   ],
   "source": [
    "# To check for the columns in the dataset\n",
    "telecom_churn.columns"
   ]
  },
  {
   "cell_type": "code",
   "execution_count": 9,
   "id": "0c4b0169-fa0f-4b41-b947-f4e9c67393ed",
   "metadata": {},
   "outputs": [
    {
     "data": {
      "text/plain": [
       "False"
      ]
     },
     "execution_count": 9,
     "metadata": {},
     "output_type": "execute_result"
    }
   ],
   "source": [
    "# To check if there is null values in the dataset.\n",
    "telecom_churn.isna().any().any()"
   ]
  },
  {
   "cell_type": "code",
   "execution_count": 10,
   "id": "c220a2ef-caea-4bd0-b326-6038dce6e971",
   "metadata": {},
   "outputs": [
    {
     "data": {
      "text/html": [
       "<div>\n",
       "<style scoped>\n",
       "    .dataframe tbody tr th:only-of-type {\n",
       "        vertical-align: middle;\n",
       "    }\n",
       "\n",
       "    .dataframe tbody tr th {\n",
       "        vertical-align: top;\n",
       "    }\n",
       "\n",
       "    .dataframe thead th {\n",
       "        text-align: right;\n",
       "    }\n",
       "</style>\n",
       "<table border=\"1\" class=\"dataframe\">\n",
       "  <thead>\n",
       "    <tr style=\"text-align: right;\">\n",
       "      <th></th>\n",
       "      <th>Account length</th>\n",
       "      <th>Area code</th>\n",
       "      <th>Number vmail messages</th>\n",
       "      <th>Total day minutes</th>\n",
       "      <th>Total day calls</th>\n",
       "      <th>Total day charge</th>\n",
       "      <th>Total eve minutes</th>\n",
       "      <th>Total eve calls</th>\n",
       "      <th>Total eve charge</th>\n",
       "      <th>Total night minutes</th>\n",
       "      <th>Total night calls</th>\n",
       "      <th>Total night charge</th>\n",
       "      <th>Total intl minutes</th>\n",
       "      <th>Total intl calls</th>\n",
       "      <th>Total intl charge</th>\n",
       "      <th>Customer service calls</th>\n",
       "    </tr>\n",
       "  </thead>\n",
       "  <tbody>\n",
       "    <tr>\n",
       "      <th>count</th>\n",
       "      <td>3333.000000</td>\n",
       "      <td>3333.000000</td>\n",
       "      <td>3333.000000</td>\n",
       "      <td>3333.000000</td>\n",
       "      <td>3333.000000</td>\n",
       "      <td>3333.000000</td>\n",
       "      <td>3333.000000</td>\n",
       "      <td>3333.000000</td>\n",
       "      <td>3333.000000</td>\n",
       "      <td>3333.000000</td>\n",
       "      <td>3333.000000</td>\n",
       "      <td>3333.000000</td>\n",
       "      <td>3333.000000</td>\n",
       "      <td>3333.000000</td>\n",
       "      <td>3333.000000</td>\n",
       "      <td>3333.000000</td>\n",
       "    </tr>\n",
       "    <tr>\n",
       "      <th>mean</th>\n",
       "      <td>101.064806</td>\n",
       "      <td>437.182418</td>\n",
       "      <td>8.099010</td>\n",
       "      <td>179.775098</td>\n",
       "      <td>100.435644</td>\n",
       "      <td>30.562307</td>\n",
       "      <td>200.980348</td>\n",
       "      <td>100.114311</td>\n",
       "      <td>17.083540</td>\n",
       "      <td>200.872037</td>\n",
       "      <td>100.107711</td>\n",
       "      <td>9.039325</td>\n",
       "      <td>10.237294</td>\n",
       "      <td>4.479448</td>\n",
       "      <td>2.764581</td>\n",
       "      <td>1.562856</td>\n",
       "    </tr>\n",
       "    <tr>\n",
       "      <th>std</th>\n",
       "      <td>39.822106</td>\n",
       "      <td>42.371290</td>\n",
       "      <td>13.688365</td>\n",
       "      <td>54.467389</td>\n",
       "      <td>20.069084</td>\n",
       "      <td>9.259435</td>\n",
       "      <td>50.713844</td>\n",
       "      <td>19.922625</td>\n",
       "      <td>4.310668</td>\n",
       "      <td>50.573847</td>\n",
       "      <td>19.568609</td>\n",
       "      <td>2.275873</td>\n",
       "      <td>2.791840</td>\n",
       "      <td>2.461214</td>\n",
       "      <td>0.753773</td>\n",
       "      <td>1.315491</td>\n",
       "    </tr>\n",
       "    <tr>\n",
       "      <th>min</th>\n",
       "      <td>1.000000</td>\n",
       "      <td>408.000000</td>\n",
       "      <td>0.000000</td>\n",
       "      <td>0.000000</td>\n",
       "      <td>0.000000</td>\n",
       "      <td>0.000000</td>\n",
       "      <td>0.000000</td>\n",
       "      <td>0.000000</td>\n",
       "      <td>0.000000</td>\n",
       "      <td>23.200000</td>\n",
       "      <td>33.000000</td>\n",
       "      <td>1.040000</td>\n",
       "      <td>0.000000</td>\n",
       "      <td>0.000000</td>\n",
       "      <td>0.000000</td>\n",
       "      <td>0.000000</td>\n",
       "    </tr>\n",
       "    <tr>\n",
       "      <th>25%</th>\n",
       "      <td>74.000000</td>\n",
       "      <td>408.000000</td>\n",
       "      <td>0.000000</td>\n",
       "      <td>143.700000</td>\n",
       "      <td>87.000000</td>\n",
       "      <td>24.430000</td>\n",
       "      <td>166.600000</td>\n",
       "      <td>87.000000</td>\n",
       "      <td>14.160000</td>\n",
       "      <td>167.000000</td>\n",
       "      <td>87.000000</td>\n",
       "      <td>7.520000</td>\n",
       "      <td>8.500000</td>\n",
       "      <td>3.000000</td>\n",
       "      <td>2.300000</td>\n",
       "      <td>1.000000</td>\n",
       "    </tr>\n",
       "    <tr>\n",
       "      <th>50%</th>\n",
       "      <td>101.000000</td>\n",
       "      <td>415.000000</td>\n",
       "      <td>0.000000</td>\n",
       "      <td>179.400000</td>\n",
       "      <td>101.000000</td>\n",
       "      <td>30.500000</td>\n",
       "      <td>201.400000</td>\n",
       "      <td>100.000000</td>\n",
       "      <td>17.120000</td>\n",
       "      <td>201.200000</td>\n",
       "      <td>100.000000</td>\n",
       "      <td>9.050000</td>\n",
       "      <td>10.300000</td>\n",
       "      <td>4.000000</td>\n",
       "      <td>2.780000</td>\n",
       "      <td>1.000000</td>\n",
       "    </tr>\n",
       "    <tr>\n",
       "      <th>75%</th>\n",
       "      <td>127.000000</td>\n",
       "      <td>510.000000</td>\n",
       "      <td>20.000000</td>\n",
       "      <td>216.400000</td>\n",
       "      <td>114.000000</td>\n",
       "      <td>36.790000</td>\n",
       "      <td>235.300000</td>\n",
       "      <td>114.000000</td>\n",
       "      <td>20.000000</td>\n",
       "      <td>235.300000</td>\n",
       "      <td>113.000000</td>\n",
       "      <td>10.590000</td>\n",
       "      <td>12.100000</td>\n",
       "      <td>6.000000</td>\n",
       "      <td>3.270000</td>\n",
       "      <td>2.000000</td>\n",
       "    </tr>\n",
       "    <tr>\n",
       "      <th>max</th>\n",
       "      <td>243.000000</td>\n",
       "      <td>510.000000</td>\n",
       "      <td>51.000000</td>\n",
       "      <td>350.800000</td>\n",
       "      <td>165.000000</td>\n",
       "      <td>59.640000</td>\n",
       "      <td>363.700000</td>\n",
       "      <td>170.000000</td>\n",
       "      <td>30.910000</td>\n",
       "      <td>395.000000</td>\n",
       "      <td>175.000000</td>\n",
       "      <td>17.770000</td>\n",
       "      <td>20.000000</td>\n",
       "      <td>20.000000</td>\n",
       "      <td>5.400000</td>\n",
       "      <td>9.000000</td>\n",
       "    </tr>\n",
       "  </tbody>\n",
       "</table>\n",
       "</div>"
      ],
      "text/plain": [
       "       Account length    Area code  Number vmail messages  Total day minutes  \\\n",
       "count     3333.000000  3333.000000            3333.000000        3333.000000   \n",
       "mean       101.064806   437.182418               8.099010         179.775098   \n",
       "std         39.822106    42.371290              13.688365          54.467389   \n",
       "min          1.000000   408.000000               0.000000           0.000000   \n",
       "25%         74.000000   408.000000               0.000000         143.700000   \n",
       "50%        101.000000   415.000000               0.000000         179.400000   \n",
       "75%        127.000000   510.000000              20.000000         216.400000   \n",
       "max        243.000000   510.000000              51.000000         350.800000   \n",
       "\n",
       "       Total day calls  Total day charge  Total eve minutes  Total eve calls  \\\n",
       "count      3333.000000       3333.000000        3333.000000      3333.000000   \n",
       "mean        100.435644         30.562307         200.980348       100.114311   \n",
       "std          20.069084          9.259435          50.713844        19.922625   \n",
       "min           0.000000          0.000000           0.000000         0.000000   \n",
       "25%          87.000000         24.430000         166.600000        87.000000   \n",
       "50%         101.000000         30.500000         201.400000       100.000000   \n",
       "75%         114.000000         36.790000         235.300000       114.000000   \n",
       "max         165.000000         59.640000         363.700000       170.000000   \n",
       "\n",
       "       Total eve charge  Total night minutes  Total night calls  \\\n",
       "count       3333.000000          3333.000000        3333.000000   \n",
       "mean          17.083540           200.872037         100.107711   \n",
       "std            4.310668            50.573847          19.568609   \n",
       "min            0.000000            23.200000          33.000000   \n",
       "25%           14.160000           167.000000          87.000000   \n",
       "50%           17.120000           201.200000         100.000000   \n",
       "75%           20.000000           235.300000         113.000000   \n",
       "max           30.910000           395.000000         175.000000   \n",
       "\n",
       "       Total night charge  Total intl minutes  Total intl calls  \\\n",
       "count         3333.000000         3333.000000       3333.000000   \n",
       "mean             9.039325           10.237294          4.479448   \n",
       "std              2.275873            2.791840          2.461214   \n",
       "min              1.040000            0.000000          0.000000   \n",
       "25%              7.520000            8.500000          3.000000   \n",
       "50%              9.050000           10.300000          4.000000   \n",
       "75%             10.590000           12.100000          6.000000   \n",
       "max             17.770000           20.000000         20.000000   \n",
       "\n",
       "       Total intl charge  Customer service calls  \n",
       "count        3333.000000             3333.000000  \n",
       "mean            2.764581                1.562856  \n",
       "std             0.753773                1.315491  \n",
       "min             0.000000                0.000000  \n",
       "25%             2.300000                1.000000  \n",
       "50%             2.780000                1.000000  \n",
       "75%             3.270000                2.000000  \n",
       "max             5.400000                9.000000  "
      ]
     },
     "execution_count": 10,
     "metadata": {},
     "output_type": "execute_result"
    }
   ],
   "source": [
    "# print out the description of the dataset.\n",
    "telecom_churn.describe()"
   ]
  },
  {
   "cell_type": "code",
   "execution_count": 34,
   "id": "919d3e62-cec6-4739-9223-82fb93f03186",
   "metadata": {},
   "outputs": [
    {
     "name": "stdout",
     "output_type": "stream",
     "text": [
      "Churn\n",
      "False    2850\n",
      "True      483\n",
      "Name: count, dtype: int64\n"
     ]
    }
   ],
   "source": [
    "# what is the churn distribution among the customers\n",
    "churn_distribution = telecom_churn['Churn'].value_counts()\n",
    "print(churn_distribution)"
   ]
  },
  {
   "cell_type": "code",
   "execution_count": 12,
   "id": "55d4ee4f-17e6-4663-82b5-451226b601e1",
   "metadata": {},
   "outputs": [
    {
     "name": "stdout",
     "output_type": "stream",
     "text": [
      "       Total day minutes  Total eve minutes  Total night minutes\n",
      "Churn                                                           \n",
      "False         175.175754         199.043298           200.133193\n",
      "True          206.914079         212.410145           205.231677\n"
     ]
    }
   ],
   "source": [
    "# how much time do churned users and non churned users spend on the network during the day, evening and night on average.\n",
    "average_time_spent = telecom_churn.groupby('Churn')[['Total day minutes', 'Total eve minutes', 'Total night minutes']].mean()\n",
    "print(average_time_spent)"
   ]
  },
  {
   "cell_type": "code",
   "execution_count": 13,
   "id": "b5c256fe-2dee-408b-8dae-33fa11938508",
   "metadata": {},
   "outputs": [
    {
     "name": "stdout",
     "output_type": "stream",
     "text": [
      "       Total day charge  Total eve charge  Total night charge  \\\n",
      "Churn                                                           \n",
      "False         29.780421         16.918909            9.006074   \n",
      "True          35.175921         18.054969            9.235528   \n",
      "\n",
      "       Total intl charge  \n",
      "Churn                     \n",
      "False           2.743404  \n",
      "True            2.889545  \n"
     ]
    }
   ],
   "source": [
    "# what is the average total charge (day, evening, night, international) for customers who churned versus those that did not.\n",
    "average_total_charge = telecom_churn.groupby('Churn')[['Total day charge', 'Total eve charge', 'Total night charge', 'Total intl charge']].mean()\n",
    "print(average_total_charge)"
   ]
  },
  {
   "cell_type": "code",
   "execution_count": 14,
   "id": "8fe8d671-bec2-4f9e-97ad-4ff19239bf75",
   "metadata": {},
   "outputs": [
    {
     "name": "stdout",
     "output_type": "stream",
     "text": [
      "       Total day calls  Total eve calls  Total night calls\n",
      "Churn                                                     \n",
      "False       100.283158       100.038596         100.058246\n",
      "True        101.335404       100.561077         100.399586\n"
     ]
    }
   ],
   "source": [
    "# How do daytime, evening, and nighttime usage metrics compare among customers who churned vs. those who stayed?\n",
    "average_calls = telecom_churn.groupby('Churn')[['Total day calls', 'Total eve calls', 'Total night calls']].mean()\n",
    "print(average_calls)"
   ]
  },
  {
   "cell_type": "code",
   "execution_count": 15,
   "id": "1c4a6d79-7355-4ff8-8dbc-62907d23082d",
   "metadata": {},
   "outputs": [
    {
     "name": "stdout",
     "output_type": "stream",
     "text": [
      "State\n",
      "AK    0.057692\n",
      "AL    0.100000\n",
      "AR    0.200000\n",
      "AZ    0.062500\n",
      "CA    0.264706\n",
      "CO    0.136364\n",
      "CT    0.162162\n",
      "DC    0.092593\n",
      "DE    0.147541\n",
      "FL    0.126984\n",
      "GA    0.148148\n",
      "HI    0.056604\n",
      "IA    0.068182\n",
      "ID    0.123288\n",
      "IL    0.086207\n",
      "IN    0.126761\n",
      "KS    0.185714\n",
      "KY    0.135593\n",
      "LA    0.078431\n",
      "MA    0.169231\n",
      "MD    0.242857\n",
      "ME    0.209677\n",
      "MI    0.219178\n",
      "MN    0.178571\n",
      "MO    0.111111\n",
      "MS    0.215385\n",
      "MT    0.205882\n",
      "NC    0.161765\n",
      "ND    0.096774\n",
      "NE    0.081967\n",
      "NH    0.160714\n",
      "NJ    0.264706\n",
      "NM    0.096774\n",
      "NV    0.212121\n",
      "NY    0.180723\n",
      "OH    0.128205\n",
      "OK    0.147541\n",
      "OR    0.141026\n",
      "PA    0.177778\n",
      "RI    0.092308\n",
      "SC    0.233333\n",
      "SD    0.133333\n",
      "TN    0.094340\n",
      "TX    0.250000\n",
      "UT    0.138889\n",
      "VA    0.064935\n",
      "VT    0.109589\n",
      "WA    0.212121\n",
      "WI    0.089744\n",
      "WV    0.094340\n",
      "WY    0.116883\n",
      "Name: Churn, dtype: float64\n",
      "Area code\n",
      "408    0.145585\n",
      "415    0.142598\n",
      "510    0.148810\n",
      "Name: Churn, dtype: float64\n"
     ]
    }
   ],
   "source": [
    "# Are there significant differences in churn rates across different states or area codes?\n",
    "churn_rates_states = telecom_churn.groupby('State')['Churn'].mean()\n",
    "print(churn_rates_states)\n",
    "\n",
    "churn_rates_area_code = telecom_churn.groupby('Area code')['Churn'].mean()\n",
    "print(churn_rates_area_code)\n"
   ]
  },
  {
   "cell_type": "code",
   "execution_count": 17,
   "id": "2b855993-1b39-4d20-93c5-f9b6795e53ff",
   "metadata": {},
   "outputs": [
    {
     "name": "stdout",
     "output_type": "stream",
     "text": [
      "                    Total day minutes  Total eve minutes  Total night minutes\n",
      "International plan                                                           \n",
      "No                         178.893887         200.663090           201.350831\n",
      "Yes                        187.986997         203.936842           196.410217\n"
     ]
    }
   ],
   "source": [
    "# Do customers with an international plan have different usage patterns compared to those without?\n",
    "usage_pattern = telecom_churn.groupby('International plan')[['Total day minutes', 'Total eve minutes', 'Total night minutes']].mean()\n",
    "print(usage_pattern)"
   ]
  },
  {
   "cell_type": "code",
   "execution_count": 29,
   "id": "0af7178d-88a4-4fb8-b6e4-8c3fa404c23f",
   "metadata": {},
   "outputs": [
    {
     "name": "stdout",
     "output_type": "stream",
     "text": [
      "International plan  Churn\n",
      "No                  False    1.456081\n",
      "                    True     2.476879\n",
      "Yes                 False    1.360215\n",
      "                    True     1.605839\n",
      "Name: Customer service calls, dtype: float64\n"
     ]
    }
   ],
   "source": [
    "# Who engages customer care the most among the customers?\n",
    "# we can determine the engagement among customers by analyzing the dataset \n",
    "customer_care_engagement = telecom_churn.groupby(['International plan', 'Churn'])['Customer service calls'].mean() \n",
    "print(customer_care_engagement)"
   ]
  },
  {
   "cell_type": "code",
   "execution_count": 32,
   "id": "bc310920-849c-48e6-a03c-ba7aa9a42f26",
   "metadata": {},
   "outputs": [
    {
     "name": "stdout",
     "output_type": "stream",
     "text": [
      "International plan\n",
      "No     3010\n",
      "Yes     323\n",
      "Name: count, dtype: int64\n"
     ]
    }
   ],
   "source": [
    "# How many customers are on International plan and how many are not?\n",
    "intl_plan = telecom_churn['International plan'].value_counts()\n",
    "print(intl_plan)"
   ]
  },
  {
   "cell_type": "code",
   "execution_count": 23,
   "id": "2a8eb688-aae9-43eb-96c0-33f8265de2fb",
   "metadata": {},
   "outputs": [
    {
     "name": "stdout",
     "output_type": "stream",
     "text": [
      "Voice mail plan\n",
      "No     2411\n",
      "Yes     922\n",
      "Name: count, dtype: int64\n"
     ]
    }
   ],
   "source": [
    "# How many customers have voicemail plans and how many do not have?\n",
    "voicemail_plan = telecom_churn['Voice mail plan'].value_counts()\n",
    "print(voicemail_plan)"
   ]
  },
  {
   "cell_type": "markdown",
   "id": "706bf45a-27ea-4304-a393-b03858406fed",
   "metadata": {},
   "source": [
    "# What are the characteristics of loyal customers?\n",
    "The characteristics of a a loyal customer can be determined by different columns in the dataset. \n",
    "We can use the churn rates, customers with or without international plan, customer service calls to determine the loyalty of customers.\n"
   ]
  },
  {
   "cell_type": "code",
   "execution_count": 39,
   "id": "c920d575-211b-4fd5-9029-1f39d41edab6",
   "metadata": {},
   "outputs": [
    {
     "name": "stdout",
     "output_type": "stream",
     "text": [
      "Churn\n",
      "False    85.508551\n",
      "True     14.491449\n",
      "Name: proportion, dtype: float64\n"
     ]
    }
   ],
   "source": [
    "loyalty_by_churn = telecom_churn['Churn'].value_counts(normalize = True) * 100\n",
    "print(loyalty_by_churn)    # 85.5% of people do not churn the company. \n",
    "                           # 14.5% churned the company"
   ]
  },
  {
   "cell_type": "code",
   "execution_count": 43,
   "id": "9841c0aa-b7aa-4a4d-b624-65a0746d6e50",
   "metadata": {},
   "outputs": [
    {
     "name": "stdout",
     "output_type": "stream",
     "text": [
      "Customer service calls\n",
      "1    35.433543\n",
      "2    22.772277\n",
      "0    20.912091\n",
      "3    12.871287\n",
      "4     4.980498\n",
      "5     1.980198\n",
      "6     0.660066\n",
      "7     0.270027\n",
      "9     0.060006\n",
      "8     0.060006\n",
      "Name: proportion, dtype: float64\n"
     ]
    }
   ],
   "source": [
    "customer_service = telecom_churn['Customer service calls'].value_counts(normalize = True) * 100\n",
    "print(customer_service)"
   ]
  },
  {
   "cell_type": "code",
   "execution_count": null,
   "id": "72164093-e57f-4a7f-9087-39f2487be8ed",
   "metadata": {},
   "outputs": [],
   "source": []
  }
 ],
 "metadata": {
  "kernelspec": {
   "display_name": "Python 3 (ipykernel)",
   "language": "python",
   "name": "python3"
  },
  "language_info": {
   "codemirror_mode": {
    "name": "ipython",
    "version": 3
   },
   "file_extension": ".py",
   "mimetype": "text/x-python",
   "name": "python",
   "nbconvert_exporter": "python",
   "pygments_lexer": "ipython3",
   "version": "3.11.7"
  }
 },
 "nbformat": 4,
 "nbformat_minor": 5
}
